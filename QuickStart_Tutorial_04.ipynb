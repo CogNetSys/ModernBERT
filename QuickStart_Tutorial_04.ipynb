{
  "nbformat": 4,
  "nbformat_minor": 0,
  "metadata": {
    "colab": {
      "provenance": [],
      "gpuType": "T4",
      "authorship_tag": "ABX9TyPcBv8DAyRyILYA+tojIM6I",
      "include_colab_link": true
    },
    "kernelspec": {
      "name": "python3",
      "display_name": "Python 3"
    },
    "language_info": {
      "name": "python"
    },
    "accelerator": "GPU"
  },
  "cells": [
    {
      "cell_type": "markdown",
      "metadata": {
        "id": "view-in-github",
        "colab_type": "text"
      },
      "source": [
        "<a href=\"https://colab.research.google.com/github/CogNetSys/ModernBERT/blob/main/QuickStart_Tutorial_04.ipynb\" target=\"_parent\"><img src=\"https://colab.research.google.com/assets/colab-badge.svg\" alt=\"Open In Colab\"/></a>"
      ]
    },
    {
      "cell_type": "code",
      "execution_count": null,
      "metadata": {
        "id": "tYosc08S8TTv"
      },
      "outputs": [],
      "source": [
        "# Install required dependencies\n",
        "!pip install torch transformers numpy sklearn"
      ]
    },
    {
      "cell_type": "code",
      "source": [
        "!pip install --upgrade transformers"
      ],
      "metadata": {
        "id": "uGnHSczv9WO4"
      },
      "execution_count": null,
      "outputs": []
    },
    {
      "cell_type": "code",
      "source": [
        "# Import necessary libraries\n",
        "from transformers import AutoTokenizer, AutoModel\n",
        "import torch\n",
        "from sklearn.metrics.pairwise import cosine_similarity"
      ],
      "metadata": {
        "id": "FA2dAtq68hP8"
      },
      "execution_count": null,
      "outputs": []
    },
    {
      "cell_type": "code",
      "source": [
        "# Model name\n",
        "model_name = \"lightonai/modernbert-embed-large\"\n",
        "\n",
        "# Load the tokenizer and model\n",
        "tokenizer = AutoTokenizer.from_pretrained(model_name)\n",
        "model = AutoModel.from_pretrained(model_name)\n",
        "\n",
        "# Move the model to GPU if available\n",
        "device = torch.device(\"cuda\" if torch.cuda.is_available() else \"cpu\")\n",
        "model.to(device)\n"
      ],
      "metadata": {
        "collapsed": true,
        "id": "k6lxKqoK8q8i"
      },
      "execution_count": null,
      "outputs": []
    },
    {
      "cell_type": "code",
      "source": [
        "sentences = [\n",
        "    \"ModernBERT is a powerful language model.\",\n",
        "    \"This is an example sentence.\",\n",
        "    \"Embeddings can capture semantic meaning.\",\n",
        "    \"ModernBERT can handle long text sequences efficiently.\",\n",
        "    \"Another example sentence for demonstration.\"\n",
        "]\n"
      ],
      "metadata": {
        "id": "EP4HRP4s9_Bj"
      },
      "execution_count": null,
      "outputs": []
    },
    {
      "cell_type": "code",
      "source": [
        "inputs = tokenizer(sentences, padding=True, truncation=True, return_tensors=\"pt\", max_length=512)\n",
        "inputs = {k: v.to(device) for k, v in inputs.items()}  # Move inputs to GPU\n"
      ],
      "metadata": {
        "id": "ELjYJoUG-Bgq"
      },
      "execution_count": null,
      "outputs": []
    },
    {
      "cell_type": "code",
      "source": [
        "with torch.no_grad():  # Disable gradient calculation for efficiency\n",
        "    outputs = model(**inputs)\n",
        "\n",
        "# Extract the embeddings of the [CLS] token from the last hidden state\n",
        "sentence_embeddings = outputs.last_hidden_state[:, 0, :]\n",
        "\n",
        "print(f\"Shape of sentence embeddings: {sentence_embeddings.shape}\")\n"
      ],
      "metadata": {
        "id": "9JKXWMaZ-CxF"
      },
      "execution_count": null,
      "outputs": []
    },
    {
      "cell_type": "code",
      "source": [
        "# Calculate cosine similarity between the first sentence and the rest\n",
        "similarity_scores = cosine_similarity(\n",
        "    sentence_embeddings[0].cpu().reshape(1, -1),  # Move to CPU and reshape to 2D array\n",
        "    sentence_embeddings[1:].cpu()  # Move the rest to CPU\n",
        ")\n",
        "\n",
        "# Print similarity scores\n",
        "print(\"Similarity scores with the first sentence:\")\n",
        "for i, score in enumerate(similarity_scores[0]):\n",
        "    print(f\"  Sentence {i+2}: {score:.4f}\")\n"
      ],
      "metadata": {
        "collapsed": true,
        "id": "Gz46GNGk-D1_"
      },
      "execution_count": null,
      "outputs": []
    }
  ]
}